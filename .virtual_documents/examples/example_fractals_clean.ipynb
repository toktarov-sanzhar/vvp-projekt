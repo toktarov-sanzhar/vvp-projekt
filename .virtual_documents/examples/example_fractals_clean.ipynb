


%matplotlib notebook


from fraktaly.visualizer import run_visualizer





run_visualizer()





from fraktaly.mandelbrot import compute_mandelbrot_set
import matplotlib.pyplot as plt

data = compute_mandelbrot_set(-2.0, 1.0, -1.5, 1.5, 600, 600, 100)

plt.imshow(data, extent=(-2.0, 1.0, -1.5, 1.5), cmap="hot", origin="lower")
plt.title("Mandelbrot Set")
plt.xlabel("Re")
plt.ylabel("Im")
plt.show()






from fraktaly.julia import compute_julia_set
import matplotlib.pyplot as plt

c = complex(-0.4, 0.6)
data = compute_julia_set(c, -1.5, 1.5, -1.5, 1.5, 600, 600, 100)

plt.imshow(data, extent=(-1.5, 1.5, -1.5, 1.5), cmap="hot", origin="lower")
plt.title(f"Julia Set (c = {c})")
plt.xlabel("Re")
plt.ylabel("Im")
plt.show()




