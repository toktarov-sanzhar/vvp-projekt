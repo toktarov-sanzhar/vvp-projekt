{
 "cells": [
  {
   "cell_type": "markdown",
   "id": "c070856c",
   "metadata": {},
   "source": [
    "# Smart Interactive Fractal Visualizer (Mandelbrot / Julia)\n",
    "Shows Re(c) and Im(c) sliders only when Julia set is selected."
   ]
  },
  {
   "cell_type": "code",
   "execution_count": 6,
   "id": "9a89967d",
   "metadata": {},
   "outputs": [
    {
     "data": {
      "application/vnd.jupyter.widget-view+json": {
       "model_id": "ebdeeb0a3ba748db896b00cf6f986ba1",
       "version_major": 2,
       "version_minor": 0
      },
      "text/plain": [
       "VBox(children=(VBox(), HBox(children=(Button(description='Zoom In', style=ButtonStyle()), Button(description='…"
      ]
     },
     "metadata": {},
     "output_type": "display_data"
    }
   ],
   "source": [
    "import matplotlib.pyplot as plt\n",
    "from ipywidgets import VBox, HBox, Button, Dropdown, IntSlider, FloatSlider, Output\n",
    "from IPython.display import display, clear_output\n",
    "from fraktaly.mandelbrot import compute_mandelbrot_set\n",
    "from fraktaly.julia import compute_julia_set\n",
    "\n",
    "out = Output()\n",
    "\n",
    "fractal_type = Dropdown(options=['Mandelbrot', 'Julia'], value='Mandelbrot', description='Fractal')\n",
    "iter_slider = IntSlider(value=100, min=10, max=500, step=10, description='Iterace')\n",
    "re_slider = FloatSlider(value=-0.4, min=-1.0, max=1.0, step=0.01, description='Re(c)')\n",
    "im_slider = FloatSlider(value=0.6, min=-1.0, max=1.0, step=0.01, description='Im(c)')\n",
    "zoom_in_btn = Button(description=\"Zoom In\")\n",
    "zoom_out_btn = Button(description=\"Zoom Out\")\n",
    "reset_btn = Button(description=\"Reset\")\n",
    "\n",
    "view = {'xmin': -2.0, 'xmax': 1.5, 'ymin': -1.5, 'ymax': 1.5}\n",
    "zoom_factor = 0.8\n",
    "\n",
    "def draw():\n",
    "    with out:\n",
    "        clear_output(wait=True)\n",
    "        width = 600\n",
    "        height = 600\n",
    "        if fractal_type.value == 'Mandelbrot':\n",
    "            data = compute_mandelbrot_set(view['xmin'], view['xmax'], view['ymin'], view['ymax'], width, height, iter_slider.value)\n",
    "            title = \"Mandelbrot Set\"\n",
    "        else:\n",
    "            c = complex(re_slider.value, im_slider.value)\n",
    "            data = compute_julia_set(c, view['xmin'], view['xmax'], view['ymin'], view['ymax'], width, height, iter_slider.value)\n",
    "            title = f\"Julia Set (c = {c})\"\n",
    "\n",
    "        plt.figure(figsize=(6,6))\n",
    "        plt.imshow(data, extent=(view['xmin'], view['xmax'], view['ymin'], view['ymax']), cmap=\"hot\", origin=\"lower\")\n",
    "        plt.title(title)\n",
    "        plt.xlabel(\"Re\")\n",
    "        plt.ylabel(\"Im\")\n",
    "        plt.show()\n",
    "\n",
    "def zoom_in(b=None):\n",
    "    x_center = (view['xmin'] + view['xmax']) / 2\n",
    "    y_center = (view['ymin'] + view['ymax']) / 2\n",
    "    x_range = (view['xmax'] - view['xmin']) * zoom_factor / 2\n",
    "    y_range = (view['ymax'] - view['ymin']) * zoom_factor / 2\n",
    "    view['xmin'] = x_center - x_range\n",
    "    view['xmax'] = x_center + x_range\n",
    "    view['ymin'] = y_center - y_range\n",
    "    view['ymax'] = y_center + y_range\n",
    "    draw()\n",
    "\n",
    "def zoom_out(b=None):\n",
    "    x_center = (view['xmin'] + view['xmax']) / 2\n",
    "    y_center = (view['ymin'] + view['ymax']) / 2\n",
    "    x_range = (view['xmax'] - view['xmin']) / zoom_factor / 2\n",
    "    y_range = (view['ymax'] - view['ymin']) / zoom_factor / 2\n",
    "    view['xmin'] = x_center - x_range\n",
    "    view['xmax'] = x_center + x_range\n",
    "    view['ymin'] = y_center - y_range\n",
    "    view['ymax'] = y_center + y_range\n",
    "    draw()\n",
    "\n",
    "def reset(b=None):\n",
    "    view['xmin'], view['xmax'] = -2.0, -1.0\n",
    "    view['ymin'], view['ymax'] = -1.5, 1.5\n",
    "    draw()\n",
    "\n",
    "zoom_in_btn.on_click(zoom_in)\n",
    "zoom_out_btn.on_click(zoom_out)\n",
    "reset_btn.on_click(reset)\n",
    "fractal_type.observe(lambda change: update_ui(), names=\"value\")\n",
    "iter_slider.observe(lambda change: draw(), names=\"value\")\n",
    "re_slider.observe(lambda change: draw(), names=\"value\")\n",
    "im_slider.observe(lambda change: draw(), names=\"value\")\n",
    "\n",
    "def update_ui():\n",
    "    if fractal_type.value == 'Julia':\n",
    "        controls_box.children = [fractal_type, iter_slider, re_slider, im_slider]\n",
    "    else:\n",
    "        controls_box.children = [fractal_type, iter_slider]\n",
    "    draw()\n",
    "\n",
    "controls_box = VBox()\n",
    "buttons = HBox([zoom_in_btn, zoom_out_btn, reset_btn])\n",
    "ui = VBox([controls_box, buttons, out])\n",
    "\n",
    "display(ui)\n",
    "update_ui()\n"
   ]
  },
  {
   "cell_type": "code",
   "execution_count": null,
   "id": "aabbd082",
   "metadata": {},
   "outputs": [],
   "source": []
  }
 ],
 "metadata": {
  "kernelspec": {
   "display_name": "Python 3 (ipykernel)",
   "language": "python",
   "name": "python3"
  },
  "language_info": {
   "codemirror_mode": {
    "name": "ipython",
    "version": 3
   },
   "file_extension": ".py",
   "mimetype": "text/x-python",
   "name": "python",
   "nbconvert_exporter": "python",
   "pygments_lexer": "ipython3",
   "version": "3.10.12"
  }
 },
 "nbformat": 4,
 "nbformat_minor": 5
}
