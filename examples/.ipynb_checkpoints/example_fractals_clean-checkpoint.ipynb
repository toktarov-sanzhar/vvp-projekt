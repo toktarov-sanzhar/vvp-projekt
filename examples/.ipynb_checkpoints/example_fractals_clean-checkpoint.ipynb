{
 "cells": [
  {
   "cell_type": "markdown",
   "id": "dbf9cfd6",
   "metadata": {},
   "source": [
    "# Fractal Visualizer – Mandelbrot and Julia Sets"
   ]
  },
  {
   "cell_type": "code",
   "execution_count": null,
   "id": "74794fea",
   "metadata": {},
   "outputs": [],
   "source": [
    "%matplotlib notebook"
   ]
  },
  {
   "cell_type": "code",
   "execution_count": null,
   "id": "4ef27b3e",
   "metadata": {},
   "outputs": [],
   "source": [
    "from fraktaly.visualizer import run_visualizer"
   ]
  },
  {
   "cell_type": "markdown",
   "id": "f4ed3ea8",
   "metadata": {},
   "source": [
    "## Run the interactive visualizer"
   ]
  },
  {
   "cell_type": "code",
   "execution_count": null,
   "id": "d32b578b",
   "metadata": {},
   "outputs": [],
   "source": [
    "run_visualizer()"
   ]
  },
  {
   "cell_type": "markdown",
   "id": "e507a6b5",
   "metadata": {},
   "source": [
    "## Static Mandelbrot Example"
   ]
  },
  {
   "cell_type": "code",
   "execution_count": null,
   "id": "05db52b7",
   "metadata": {},
   "outputs": [],
   "source": [
    "from fraktaly.mandelbrot import compute_mandelbrot_set\n",
    "import matplotlib.pyplot as plt\n",
    "\n",
    "data = compute_mandelbrot_set(-2.0, 1.0, -1.5, 1.5, 600, 600, 100)\n",
    "\n",
    "plt.imshow(data, extent=(-2.0, 1.0, -1.5, 1.5), cmap=\"hot\", origin=\"lower\")\n",
    "plt.title(\"Mandelbrot Set\")\n",
    "plt.xlabel(\"Re\")\n",
    "plt.ylabel(\"Im\")\n",
    "plt.show()\n"
   ]
  },
  {
   "cell_type": "markdown",
   "id": "4987d952",
   "metadata": {},
   "source": [
    "## Static Julia Example"
   ]
  },
  {
   "cell_type": "code",
   "execution_count": null,
   "id": "9a40c796",
   "metadata": {},
   "outputs": [],
   "source": [
    "from fraktaly.julia import compute_julia_set\n",
    "import matplotlib.pyplot as plt\n",
    "\n",
    "c = complex(-0.4, 0.6)\n",
    "data = compute_julia_set(c, -1.5, 1.5, -1.5, 1.5, 600, 600, 100)\n",
    "\n",
    "plt.imshow(data, extent=(-1.5, 1.5, -1.5, 1.5), cmap=\"hot\", origin=\"lower\")\n",
    "plt.title(f\"Julia Set (c = {c})\")\n",
    "plt.xlabel(\"Re\")\n",
    "plt.ylabel(\"Im\")\n",
    "plt.show()\n"
   ]
  }
 ],
 "metadata": {},
 "nbformat": 4,
 "nbformat_minor": 5
}
