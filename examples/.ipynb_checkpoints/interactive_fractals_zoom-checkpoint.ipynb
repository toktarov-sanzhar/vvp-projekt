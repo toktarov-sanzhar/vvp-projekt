{
 "cells": [
  {
   "cell_type": "markdown",
   "id": "6fe6a8a4",
   "metadata": {},
   "source": [
    "# Minimal Interactive Fractal Visualizer\n",
    "This notebook uses only Zoom In / Zoom Out buttons and Fractal switch. No manual xmin/xmax."
   ]
  },
  {
   "cell_type": "code",
   "execution_count": 1,
   "id": "01eb74b6",
   "metadata": {},
   "outputs": [
    {
     "data": {
      "application/vnd.jupyter.widget-view+json": {
       "model_id": "47f9bb95ad2442a9ab86b6d64ef88582",
       "version_major": 2,
       "version_minor": 0
      },
      "text/plain": [
       "VBox(children=(HBox(children=(Dropdown(description='Fractal', options=('Mandelbrot', 'Julia'), value='Mandelbr…"
      ]
     },
     "metadata": {},
     "output_type": "display_data"
    }
   ],
   "source": [
    "import matplotlib.pyplot as plt\n",
    "from ipywidgets import VBox, HBox, Button, Dropdown, IntSlider, Output\n",
    "from IPython.display import display, clear_output\n",
    "from fraktaly.mandelbrot import compute_mandelbrot_set\n",
    "from fraktaly.julia import compute_julia_set\n",
    "\n",
    "# Init output area\n",
    "out = Output()\n",
    "\n",
    "# Controls\n",
    "fractal_type = Dropdown(options=['Mandelbrot', 'Julia'], value='Mandelbrot', description='Fractal')\n",
    "iter_slider = IntSlider(value=100, min=10, max=500, step=10, description='Iterace')\n",
    "zoom_in_btn = Button(description=\"Zoom In\")\n",
    "zoom_out_btn = Button(description=\"Zoom Out\")\n",
    "reset_btn = Button(description=\"Reset\")\n",
    "\n",
    "# View window\n",
    "view = {'xmin': -2.0, 'xmax': 1.0, 'ymin': -1.5, 'ymax': 1.5}\n",
    "zoom_factor = 0.8\n",
    "\n",
    "# Drawing\n",
    "def draw():\n",
    "    with out:\n",
    "        clear_output(wait=True)\n",
    "        width = 600\n",
    "        height = 600\n",
    "        if fractal_type.value == 'Mandelbrot':\n",
    "            data = compute_mandelbrot_set(view['xmin'], view['xmax'], view['ymin'], view['ymax'], width, height, iter_slider.value)\n",
    "            title = \"Mandelbrot Set\"\n",
    "        else:\n",
    "            c = complex(-0.4, 0.6)\n",
    "            data = compute_julia_set(c, view['xmin'], view['xmax'], view['ymin'], view['ymax'], width, height, iter_slider.value)\n",
    "            title = f\"Julia Set (c = {c})\"\n",
    "\n",
    "        plt.figure(figsize=(6,6))\n",
    "        plt.imshow(data, extent=(view['xmin'], view['xmax'], view['ymin'], view['ymax']), cmap=\"hot\", origin=\"lower\")\n",
    "        plt.title(title)\n",
    "        plt.xlabel(\"Re\")\n",
    "        plt.ylabel(\"Im\")\n",
    "        plt.show()\n",
    "\n",
    "# Zoom functions\n",
    "def zoom_in(b=None):\n",
    "    x_center = (view['xmin'] + view['xmax']) / 2\n",
    "    y_center = (view['ymin'] + view['ymax']) / 2\n",
    "    x_range = (view['xmax'] - view['xmin']) * zoom_factor / 2\n",
    "    y_range = (view['ymax'] - view['ymin']) * zoom_factor / 2\n",
    "    view['xmin'] = x_center - x_range\n",
    "    view['xmax'] = x_center + x_range\n",
    "    view['ymin'] = y_center - y_range\n",
    "    view['ymax'] = y_center + y_range\n",
    "    draw()\n",
    "\n",
    "def zoom_out(b=None):\n",
    "    x_center = (view['xmin'] + view['xmax']) / 2\n",
    "    y_center = (view['ymin'] + view['ymax']) / 2\n",
    "    x_range = (view['xmax'] - view['xmin']) / zoom_factor / 2\n",
    "    y_range = (view['ymax'] - view['ymin']) / zoom_factor / 2\n",
    "    view['xmin'] = x_center - x_range\n",
    "    view['xmax'] = x_center + x_range\n",
    "    view['ymin'] = y_center - y_range\n",
    "    view['ymax'] = y_center + y_range\n",
    "    draw()\n",
    "\n",
    "def reset(b=None):\n",
    "    view['xmin'], view['xmax'] = -2.0, 1.0\n",
    "    view['ymin'], view['ymax'] = -1.5, 1.5\n",
    "    draw()\n",
    "\n",
    "# Bind buttons\n",
    "zoom_in_btn.on_click(zoom_in)\n",
    "zoom_out_btn.on_click(zoom_out)\n",
    "reset_btn.on_click(reset)\n",
    "fractal_type.observe(lambda change: draw(), names=\"value\")\n",
    "iter_slider.observe(lambda change: draw(), names=\"value\")\n",
    "\n",
    "# Layout\n",
    "controls = HBox([zoom_in_btn, zoom_out_btn, reset_btn])\n",
    "top = HBox([fractal_type, iter_slider])\n",
    "display(VBox([top, controls, out]))\n",
    "\n",
    "draw()\n"
   ]
  },
  {
   "cell_type": "code",
   "execution_count": null,
   "id": "89d2bc4e",
   "metadata": {},
   "outputs": [],
   "source": []
  }
 ],
 "metadata": {
  "kernelspec": {
   "display_name": "Python 3 (ipykernel)",
   "language": "python",
   "name": "python3"
  },
  "language_info": {
   "codemirror_mode": {
    "name": "ipython",
    "version": 3
   },
   "file_extension": ".py",
   "mimetype": "text/x-python",
   "name": "python",
   "nbconvert_exporter": "python",
   "pygments_lexer": "ipython3",
   "version": "3.10.12"
  }
 },
 "nbformat": 4,
 "nbformat_minor": 5
}
