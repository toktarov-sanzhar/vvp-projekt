{
 "cells": [
  {
   "cell_type": "markdown",
   "id": "6c8cbd37",
   "metadata": {},
   "source": [
    "# Unified Interactive Fractal Visualizer (Mandelbrot / Julia)\n",
    "This notebook provides a clean interactive interface with grouped controls, zoom reset, and type switch."
   ]
  },
  {
   "cell_type": "code",
   "execution_count": 1,
   "id": "9a184c77",
   "metadata": {},
   "outputs": [],
   "source": [
    "import matplotlib.pyplot as plt\n",
    "from ipywidgets import interact, interactive, VBox, HBox, Button, Dropdown, FloatSlider, IntSlider, Output\n",
    "from IPython.display import display, clear_output\n",
    "from fraktaly.mandelbrot import compute_mandelbrot_set\n",
    "from fraktaly.julia import compute_julia_set\n"
   ]
  },
  {
   "cell_type": "code",
   "execution_count": 2,
   "id": "3e215634",
   "metadata": {},
   "outputs": [
    {
     "data": {
      "application/vnd.jupyter.widget-view+json": {
       "model_id": "e7c0ffe91a7d48acbd07b640b01c49ba",
       "version_major": 2,
       "version_minor": 0
      },
      "text/plain": [
       "HBox(children=(VBox(children=(Dropdown(description='Fractal', options=('Mandelbrot', 'Julia'), value='Mandelbr…"
      ]
     },
     "metadata": {},
     "output_type": "display_data"
    },
    {
     "data": {
      "application/vnd.jupyter.widget-view+json": {
       "model_id": "94e9ad9ae87c45a8ac785d5d2875d453",
       "version_major": 2,
       "version_minor": 0
      },
      "text/plain": [
       "Output()"
      ]
     },
     "metadata": {},
     "output_type": "display_data"
    }
   ],
   "source": [
    "out = Output()\n",
    "\n",
    "xmin_slider = FloatSlider(value=-2.0, min=-3.0, max=0.0, step=0.05, description='xmin')\n",
    "xmax_slider = FloatSlider(value=1.0, min=0.0, max=3.0, step=0.05, description='xmax')\n",
    "ymin_slider = FloatSlider(value=-1.5, min=-2.0, max=0.0, step=0.05, description='ymin')\n",
    "ymax_slider = FloatSlider(value=1.5, min=0.0, max=2.0, step=0.05, description='ymax')\n",
    "iter_slider = IntSlider(value=100, min=10, max=500, step=10, description='Iterace')\n",
    "\n",
    "re_slider = FloatSlider(value=-0.4, min=-1.0, max=1.0, step=0.01, description='Re(c)')\n",
    "im_slider = FloatSlider(value=0.6, min=-1.0, max=1.0, step=0.01, description='Im(c)')\n",
    "\n",
    "fractal_type = Dropdown(options=['Mandelbrot', 'Julia'], value='Mandelbrot', description='Fractal')\n",
    "reset_button = Button(description=\"Reset Zoom\")\n",
    "\n",
    "def draw(*args):\n",
    "    with out:\n",
    "        clear_output(wait=True)\n",
    "        if fractal_type.value == 'Mandelbrot':\n",
    "            data = compute_mandelbrot_set(xmin_slider.value, xmax_slider.value,\n",
    "                                          ymin_slider.value, ymax_slider.value,\n",
    "                                          600, 600, iter_slider.value)\n",
    "            plt.figure(figsize=(6,6))\n",
    "            plt.imshow(data, extent=(xmin_slider.value, xmax_slider.value, ymin_slider.value, ymax_slider.value),\n",
    "                       cmap=\"hot\", origin=\"lower\")\n",
    "            plt.title(\"Mandelbrot Set\")\n",
    "        else:\n",
    "            c = complex(re_slider.value, im_slider.value)\n",
    "            data = compute_julia_set(c, xmin_slider.value, xmax_slider.value,\n",
    "                                     ymin_slider.value, ymax_slider.value,\n",
    "                                     600, 600, iter_slider.value)\n",
    "            plt.figure(figsize=(6,6))\n",
    "            plt.imshow(data, extent=(xmin_slider.value, xmax_slider.value, ymin_slider.value, ymax_slider.value),\n",
    "                       cmap=\"hot\", origin=\"lower\")\n",
    "            plt.title(f\"Julia Set (c = {c})\")\n",
    "        plt.xlabel(\"Re\")\n",
    "        plt.ylabel(\"Im\")\n",
    "        plt.show()\n",
    "\n",
    "def reset_zoom(b):\n",
    "    xmin_slider.value = -2.0\n",
    "    xmax_slider.value = 1.0\n",
    "    ymin_slider.value = -1.5\n",
    "    ymax_slider.value = 1.5\n",
    "\n",
    "reset_button.on_click(reset_zoom)\n",
    "\n",
    "widgets = [xmin_slider, xmax_slider, ymin_slider, ymax_slider, iter_slider, re_slider, im_slider, fractal_type]\n",
    "for w in widgets:\n",
    "    w.observe(draw, names='value')\n",
    "reset_button.on_click(draw)\n",
    "\n",
    "controls_left = VBox([fractal_type, xmin_slider, xmax_slider, ymin_slider, ymax_slider, iter_slider, reset_button])\n",
    "controls_right = VBox([re_slider, im_slider])\n",
    "ui = HBox([controls_left, controls_right])\n",
    "\n",
    "display(ui, out)\n",
    "draw()\n"
   ]
  },
  {
   "cell_type": "code",
   "execution_count": null,
   "id": "f5e1721a",
   "metadata": {},
   "outputs": [],
   "source": []
  }
 ],
 "metadata": {
  "kernelspec": {
   "display_name": "Python 3 (ipykernel)",
   "language": "python",
   "name": "python3"
  },
  "language_info": {
   "codemirror_mode": {
    "name": "ipython",
    "version": 3
   },
   "file_extension": ".py",
   "mimetype": "text/x-python",
   "name": "python",
   "nbconvert_exporter": "python",
   "pygments_lexer": "ipython3",
   "version": "3.10.12"
  }
 },
 "nbformat": 4,
 "nbformat_minor": 5
}
