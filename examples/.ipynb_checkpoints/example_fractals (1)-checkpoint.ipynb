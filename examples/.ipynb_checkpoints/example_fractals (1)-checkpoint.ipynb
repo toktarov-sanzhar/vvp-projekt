{
 "cells": [
  {
   "cell_type": "markdown",
   "id": "7e98eee0",
   "metadata": {},
   "source": [
    "# Fractal Visualizer – Mandelbrot and Julia Sets"
   ]
  },
  {
   "cell_type": "code",
   "execution_count": null,
   "id": "efcb6f39",
   "metadata": {},
   "outputs": [],
   "source": [
    "from fraktaly.visualizer import run_visualizer"
   ]
  },
  {
   "cell_type": "markdown",
   "id": "a80aeece",
   "metadata": {},
   "source": [
    "## 🔄 Run Interactive Visualizer"
   ]
  },
  {
   "cell_type": "code",
   "execution_count": null,
   "id": "18a0e4de",
   "metadata": {},
   "outputs": [],
   "source": [
    "run_visualizer()  # This will open a separate interactive window"
   ]
  },
  {
   "cell_type": "markdown",
   "id": "f651d8f5",
   "metadata": {},
   "source": [
    "## 🌀 Static Mandelbrot Example"
   ]
  },
  {
   "cell_type": "code",
   "execution_count": null,
   "id": "27642895",
   "metadata": {},
   "outputs": [],
   "source": [
    "from fraktaly.mandelbrot import compute_mandelbrot_set\n",
    "import matplotlib.pyplot as plt\n",
    "\n",
    "# Compute Mandelbrot set image\n",
    "data = compute_mandelbrot_set(-2.0, 1.0, -1.5, 1.5, 800, 800, 100)\n",
    "\n",
    "# Plot result\n",
    "plt.imshow(data, extent=(-2.0, 1.0, -1.5, 1.5), cmap=\"hot\", origin=\"lower\")\n",
    "plt.title(\"Mandelbrot Set\")\n",
    "plt.xlabel(\"Re\")\n",
    "plt.ylabel(\"Im\")\n",
    "plt.show()\n"
   ]
  },
  {
   "cell_type": "markdown",
   "id": "a34ecb46",
   "metadata": {},
   "source": [
    "## 🌌 Static Julia Example"
   ]
  },
  {
   "cell_type": "code",
   "execution_count": null,
   "id": "2b2db564",
   "metadata": {},
   "outputs": [],
   "source": [
    "from fraktaly.julia import compute_julia_set\n",
    "import matplotlib.pyplot as plt\n",
    "\n",
    "# Parameters\n",
    "c = complex(-0.4, 0.6)\n",
    "data = compute_julia_set(c, -1.5, 1.5, -1.5, 1.5, 800, 800, 100)\n",
    "\n",
    "# Plot result\n",
    "plt.imshow(data, extent=(-1.5, 1.5, -1.5, 1.5), cmap=\"hot\", origin=\"lower\")\n",
    "plt.title(f\"Julia Set (c = {c})\")\n",
    "plt.xlabel(\"Re\")\n",
    "plt.ylabel(\"Im\")\n",
    "plt.show()\n"
   ]
  }
 ],
 "metadata": {},
 "nbformat": 4,
 "nbformat_minor": 5
}
