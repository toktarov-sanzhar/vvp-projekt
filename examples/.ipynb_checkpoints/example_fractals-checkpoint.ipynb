{
 "cells": [
  {
   "cell_type": "markdown",
   "id": "d589c5df",
   "metadata": {},
   "source": [
    "# Fractal Visualizer – Mandelbrot and Julia Sets\n",
    "This notebook demonstrates how to use the fractal visualizer.\n",
    "You can run the full interactive GUI or compute static fractals."
   ]
  },
  {
   "cell_type": "code",
   "execution_count": null,
   "id": "7e1bdc2b",
   "metadata": {},
   "outputs": [],
   "source": [
    "from visualizer_docstring import run_visualizer"
   ]
  },
  {
   "cell_type": "markdown",
   "id": "eb61f1ed",
   "metadata": {},
   "source": [
    "## 🖼️ Run Interactive Visualizer"
   ]
  },
  {
   "cell_type": "code",
   "execution_count": null,
   "id": "101ce0e9",
   "metadata": {},
   "outputs": [],
   "source": [
    "run_visualizer()  # This will open a separate interactive window"
   ]
  },
  {
   "cell_type": "markdown",
   "id": "858f54e8",
   "metadata": {},
   "source": [
    "## 📌 Static Mandelbrot Example"
   ]
  },
  {
   "cell_type": "code",
   "execution_count": null,
   "id": "398d8b39",
   "metadata": {},
   "outputs": [],
   "source": [
    "from mandelbrot import compute_mandelbrot_set\n",
    "import matplotlib.pyplot as plt\n",
    "\n",
    "# Compute Mandelbrot set image\n",
    "data = compute_mandelbrot_set(-2.0, 1.0, -1.5, 1.5, 800, 800, 100)\n",
    "plt.imshow(data, extent=(-2.0, 1.0, -1.5, 1.5), cmap=\"hot\")\n",
    "plt.title(\"Mandelbrot Set\")\n",
    "plt.xlabel(\"Re\")\n",
    "plt.ylabel(\"Im\")\n",
    "plt.show()"
   ]
  },
  {
   "cell_type": "markdown",
   "id": "5cc1a03c",
   "metadata": {},
   "source": [
    "## 📌 Static Julia Example"
   ]
  },
  {
   "cell_type": "code",
   "execution_count": null,
   "id": "f6079c09",
   "metadata": {},
   "outputs": [],
   "source": [
    "from julia import compute_julia_set\n",
    "import matplotlib.pyplot as plt\n",
    "\n",
    "# Compute Julia set image\n",
    "c = complex(-0.4, 0.6)\n",
    "data = compute_julia_set(c, -2.0, 1.0, -1.5, 1.5, 800, 800, 100)\n",
    "plt.imshow(data, extent=(-2.0, 1.0, -1.5, 1.5), cmap=\"hot\")\n",
    "plt.title(f\"Julia Set for c = {c}\")\n",
    "plt.xlabel(\"Re\")\n",
    "plt.ylabel(\"Im\")\n",
    "plt.show()"
   ]
  }
 ],
 "metadata": {},
 "nbformat": 4,
 "nbformat_minor": 5
}