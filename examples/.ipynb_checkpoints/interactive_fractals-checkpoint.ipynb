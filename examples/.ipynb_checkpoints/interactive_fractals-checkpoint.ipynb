{
 "cells": [
  {
   "cell_type": "markdown",
   "id": "dda0131e",
   "metadata": {},
   "source": [
    "# Interactive Fractal Visualizer in Jupyter\n",
    "This notebook uses ipywidgets to display interactive Mandelbrot and Julia fractals."
   ]
  },
  {
   "cell_type": "code",
   "execution_count": 1,
   "id": "1b22e1ce",
   "metadata": {},
   "outputs": [],
   "source": [
    "import matplotlib.pyplot as plt\n",
    "from ipywidgets import interact, FloatSlider, IntSlider, fixed\n",
    "from fraktaly.mandelbrot import compute_mandelbrot_set\n",
    "from fraktaly.julia import compute_julia_set\n"
   ]
  },
  {
   "cell_type": "markdown",
   "id": "a46952b6",
   "metadata": {},
   "source": [
    "## Interactive Mandelbrot Set"
   ]
  },
  {
   "cell_type": "code",
   "execution_count": 2,
   "id": "5af7b824",
   "metadata": {},
   "outputs": [
    {
     "data": {
      "application/vnd.jupyter.widget-view+json": {
       "model_id": "d5f50ef21afd4668b587e342867e1274",
       "version_major": 2,
       "version_minor": 0
      },
      "text/plain": [
       "interactive(children=(FloatSlider(value=-2.0, description='xmin', max=0.0, min=-3.0), FloatSlider(value=1.0, d…"
      ]
     },
     "metadata": {},
     "output_type": "display_data"
    },
    {
     "data": {
      "text/plain": [
       "<function __main__.plot_mandelbrot(xmin, xmax, ymin, ymax, iterace)>"
      ]
     },
     "execution_count": 2,
     "metadata": {},
     "output_type": "execute_result"
    }
   ],
   "source": [
    "def plot_mandelbrot(xmin, xmax, ymin, ymax, iterace):\n",
    "    data = compute_mandelbrot_set(xmin, xmax, ymin, ymax, 600, 600, iterace)\n",
    "    plt.figure(figsize=(6, 6))\n",
    "    plt.imshow(data, extent=(xmin, xmax, ymin, ymax), cmap=\"hot\", origin=\"lower\")\n",
    "    plt.title(\"Mandelbrot Set\")\n",
    "    plt.xlabel(\"Re\")\n",
    "    plt.ylabel(\"Im\")\n",
    "    plt.show()\n",
    "\n",
    "interact(plot_mandelbrot,\n",
    "         xmin=FloatSlider(value=-2.0, min=-3.0, max=0.0, step=0.1),\n",
    "         xmax=FloatSlider(value=1.0, min=0.0, max=3.0, step=0.1),\n",
    "         ymin=FloatSlider(value=-1.5, min=-2.0, max=0.0, step=0.1),\n",
    "         ymax=FloatSlider(value=1.5, min=0.0, max=2.0, step=0.1),\n",
    "         iterace=IntSlider(value=100, min=10, max=300, step=10))\n"
   ]
  },
  {
   "cell_type": "markdown",
   "id": "2eca8feb",
   "metadata": {},
   "source": [
    "## Interactive Julia Set"
   ]
  },
  {
   "cell_type": "code",
   "execution_count": 3,
   "id": "be29436c",
   "metadata": {},
   "outputs": [
    {
     "data": {
      "application/vnd.jupyter.widget-view+json": {
       "model_id": "72d6395d10464e5eb98eedbf6fa46ada",
       "version_major": 2,
       "version_minor": 0
      },
      "text/plain": [
       "interactive(children=(FloatSlider(value=-0.4, description='Re', max=1.0, min=-1.0, step=0.05), FloatSlider(val…"
      ]
     },
     "metadata": {},
     "output_type": "display_data"
    },
    {
     "data": {
      "text/plain": [
       "<function __main__.plot_julia(Re, Im, iterace)>"
      ]
     },
     "execution_count": 3,
     "metadata": {},
     "output_type": "execute_result"
    }
   ],
   "source": [
    "def plot_julia(Re, Im, iterace):\n",
    "    c = complex(Re, Im)\n",
    "    data = compute_julia_set(c, -1.5, 1.5, -1.5, 1.5, 600, 600, iterace)\n",
    "    plt.figure(figsize=(6, 6))\n",
    "    plt.imshow(data, extent=(-1.5, 1.5, -1.5, 1.5), cmap=\"hot\", origin=\"lower\")\n",
    "    plt.title(f\"Julia Set (c = {c})\")\n",
    "    plt.xlabel(\"Re\")\n",
    "    plt.ylabel(\"Im\")\n",
    "    plt.show()\n",
    "\n",
    "interact(plot_julia,\n",
    "         Re=FloatSlider(value=-0.4, min=-1.0, max=1.0, step=0.05),\n",
    "         Im=FloatSlider(value=0.6, min=-1.0, max=1.0, step=0.05),\n",
    "         iterace=IntSlider(value=100, min=10, max=300, step=10))\n"
   ]
  },
  {
   "cell_type": "code",
   "execution_count": null,
   "id": "995840ec",
   "metadata": {},
   "outputs": [],
   "source": []
  }
 ],
 "metadata": {
  "kernelspec": {
   "display_name": "Python 3 (ipykernel)",
   "language": "python",
   "name": "python3"
  },
  "language_info": {
   "codemirror_mode": {
    "name": "ipython",
    "version": 3
   },
   "file_extension": ".py",
   "mimetype": "text/x-python",
   "name": "python",
   "nbconvert_exporter": "python",
   "pygments_lexer": "ipython3",
   "version": "3.10.12"
  }
 },
 "nbformat": 4,
 "nbformat_minor": 5
}
